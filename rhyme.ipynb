{
 "cells": [
  {
   "cell_type": "code",
   "execution_count": 21,
   "metadata": {},
   "outputs": [],
   "source": [
    "def word_rhyme(word,ss):\n",
    "    tmp = []\n",
    "    end = ss[word]\n",
    "    for e in end:\n",
    "        for key in ss.keys():\n",
    "            if e in ss[key]:\n",
    "                if key == word:\n",
    "                    continue\n",
    "                tmp.append(key)\n",
    "\n",
    "    return set(tmp)"
   ]
  },
  {
   "cell_type": "code",
   "execution_count": 22,
   "metadata": {},
   "outputs": [
    {
     "name": "stdout",
     "output_type": "stream",
     "text": [
      "0\n"
     ]
    }
   ],
   "source": [
    "from nltk.corpus import cmudict\n",
    "# nltk.download('cmudict')\n",
    "\n",
    "words = []\n",
    "\n",
    "f = open(\"shakespeare.txt\",'r')\n",
    "c = 1\n",
    "for x in f:\n",
    "    w = x.split(\" \")\n",
    "    if w[-1] == f'{c}\\n':\n",
    "        c += 1\n",
    "        continue\n",
    "    for i in w:\n",
    "        i = (\n",
    "            i.replace(\",\", \"\")\n",
    "            .replace(\":\", \"\")\n",
    "            .replace(\"\\n\", \"\")\n",
    "            .replace(\";\", \"\")\n",
    "            .replace(\".\", \"\")\n",
    "            .replace(\"(\", \"\")\n",
    "            .replace(\")\", \"\")\n",
    "            .replace(\"!\", \"\")\n",
    "            .replace(\"?\",'')\n",
    "            ).lower()\n",
    "        if i != '':\n",
    "            if i[-1] == \"'\" or i[0] == \"'\":\n",
    "                i = i.replace(\"'\",'')\n",
    "            words.append(i.lower())\n",
    "\n",
    "\n",
    "f.close()\n",
    "words = set(words)\n",
    "\n",
    "missing = 0\n",
    "word_dict = cmudict.dict()\n",
    "ss = {}\n",
    "\n",
    "for word in words:\n",
    "    try:\n",
    "        tmp = word_dict[word.lower()]\n",
    "        mat = []\n",
    "        for i in range(len(tmp)):\n",
    "            w = tmp[i]\n",
    "            for j in reversed(range(len(w))):\n",
    "                if w[j][-1] == \"1\":\n",
    "                    mat.append(w[j:])\n",
    "                    break\n",
    "\n",
    "        ss[word] = mat\n",
    "    except:  # noqa: E722\n",
    "        # print(f'{word} not in dict')\n",
    "        ss[word] = []\n",
    "        pass\n",
    "print(missing)"
   ]
  },
  {
   "cell_type": "code",
   "execution_count": 26,
   "metadata": {},
   "outputs": [
    {
     "name": "stdout",
     "output_type": "stream",
     "text": [
      "{'blot', 'hot', 'spot', 'forgot', 'cannot', 'plot', 'got'}\n"
     ]
    }
   ],
   "source": [
    "# print(ss['spend'])\n",
    "a = word_rhyme(\"not\",ss)\n",
    "print(a)"
   ]
  }
 ],
 "metadata": {
  "kernelspec": {
   "display_name": "base",
   "language": "python",
   "name": "python3"
  },
  "language_info": {
   "codemirror_mode": {
    "name": "ipython",
    "version": 3
   },
   "file_extension": ".py",
   "mimetype": "text/x-python",
   "name": "python",
   "nbconvert_exporter": "python",
   "pygments_lexer": "ipython3",
   "version": "3.11.7"
  }
 },
 "nbformat": 4,
 "nbformat_minor": 2
}
