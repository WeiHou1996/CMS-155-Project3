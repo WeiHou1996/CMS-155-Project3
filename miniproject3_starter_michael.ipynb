{
 "cells": [
  {
   "cell_type": "markdown",
   "metadata": {},
   "source": [
    "# Miniproject 3: Poem Generation"
   ]
  },
  {
   "cell_type": "markdown",
   "metadata": {},
   "source": [
    "### Download Data"
   ]
  },
  {
   "cell_type": "code",
   "execution_count": 16,
   "metadata": {},
   "outputs": [
    {
     "name": "stdout",
     "output_type": "stream",
     "text": [
      "Start downloading...\n",
      "Complete\n",
      "Start downloading...\n",
      "Complete\n",
      "Start downloading...\n",
      "Complete\n",
      "Start downloading...\n",
      "Complete\n"
     ]
    }
   ],
   "source": [
    "import requests\n",
    "\n",
    "url_dict = {\n",
    "    'shakespeare.txt': 'https://caltech-cs155.s3.us-east-2.amazonaws.com/miniprojects/project3/data/shakespeare.txt',\n",
    "    'spenser.txt': 'https://caltech-cs155.s3.us-east-2.amazonaws.com/miniprojects/project3/data/spenser.txt',\n",
    "    'syllable_dict.txt' : 'https://caltech-cs155.s3.us-east-2.amazonaws.com/miniprojects/project3/data/Syllable_dictionary.txt',\n",
    "    'about_syllable_dict.docx' : 'https://caltech-cs155.s3.us-east-2.amazonaws.com/miniprojects/project3/data/syllable_dict_explanation.docx'\n",
    "}\n",
    "\n",
    "def download_file(file_path):\n",
    "    url = url_dict[file_path]\n",
    "    print('Start downloading...')\n",
    "    with requests.get(url, stream=True) as r:\n",
    "        r.raise_for_status()\n",
    "        with open(file_path, 'wb') as f:\n",
    "            for chunk in r.iter_content(chunk_size=1024 * 1024 * 1024):\n",
    "                f.write(chunk)\n",
    "    print('Complete')\n",
    "\n",
    "download_file('shakespeare.txt')\n",
    "download_file('spenser.txt')\n",
    "download_file('syllable_dict.txt')\n",
    "download_file('about_syllable_dict.docx')"
   ]
  },
  {
   "cell_type": "markdown",
   "metadata": {},
   "source": [
    "### Importing packages \\& Preprocessing"
   ]
  },
  {
   "cell_type": "code",
   "execution_count": 17,
   "metadata": {},
   "outputs": [],
   "source": [
    "# import Sonnet class and unsupervised_HMM function\n",
    "from Sonnet import Sonnet\n",
    "from unsupervised_HMM import unsupervised_HMM\n",
    "from syllable_reader_2 import syllable_read\n",
    "from PoemWriter import SonnetWriter, HaikuWriter\n",
    "\n",
    "# process data (Syllables)\n",
    "sylDict = syllable_read('syllable_dict.txt') \n",
    "\n",
    "# process data (Shakespeare)\n",
    "snShakespeare = Sonnet(filename=\"shakespeare.txt\",sequenceType=\"Stanza\",sylDict=sylDict)\n",
    "snShakespeare.read()\n",
    "snShakespeare.buildSequenceStr()\n",
    "snShakespeare.parse_observations()\n",
    "snShakespeare.obs_map_reverser()\n",
    "\n",
    "# # process data (Spenser)\n",
    "# snSpenser = Sonnet(filename=\"spenser.txt\",sequenceType=\"Stanza\",sylDict=sylDict)\n",
    "# snSpenser.read()\n",
    "# snSpenser.buildSequenceStr()\n",
    "# snSpenser.parse_observations()\n",
    "# snSpenser.obs_map_reverser()"
   ]
  },
  {
   "cell_type": "markdown",
   "metadata": {},
   "source": [
    "# Implementing Models"
   ]
  },
  {
   "cell_type": "markdown",
   "metadata": {},
   "source": [
    "## HMM Code"
   ]
  },
  {
   "cell_type": "code",
   "execution_count": 18,
   "metadata": {},
   "outputs": [
    {
     "name": "stdout",
     "output_type": "stream",
     "text": [
      "Iteration:  1\n"
     ]
    }
   ],
   "source": [
    "HMM1 = unsupervised_HMM(snShakespeare.obs, n_states = 2, N_iters = 1, seed = 123)"
   ]
  },
  {
   "cell_type": "markdown",
   "metadata": {},
   "source": [
    "### Generate sample sonnet"
   ]
  },
  {
   "cell_type": "code",
   "execution_count": 19,
   "metadata": {},
   "outputs": [
    {
     "name": "stdout",
     "output_type": "stream",
     "text": [
      "The self shine on mended be in I this\n",
      "Mind therein of but beauteous this make for\n",
      "Forget he that I dost there well which till\n",
      "Let had thy their where themselves and gold east\n",
      "In be actor of see travail straight in\n",
      "Swear thou may the it ill although couldst sweet\n",
      "In doth but am be bear even bevel to\n",
      "Deceive with where should your brass hold for send'st\n",
      "Thou have every steal beauty eyes before\n",
      "Pursuit thou art and prime lends of subject\n",
      "Praise proud should love first being brag what from\n",
      "It three the thou plight my grind what presents\n",
      "In life shapes hands heaven dwell shade but then\n",
      "Rich flesh me quick recounting from thoughts mightst\n"
     ]
    }
   ],
   "source": [
    "snw = SonnetWriter(hmmClass=HMM1,snClass=snShakespeare)\n",
    "thisSonnetList = snw.write_poem(seed=123)"
   ]
  },
  {
   "cell_type": "markdown",
   "metadata": {},
   "source": [
    "## RNN Code"
   ]
  },
  {
   "cell_type": "code",
   "execution_count": null,
   "metadata": {},
   "outputs": [],
   "source": []
  },
  {
   "cell_type": "markdown",
   "metadata": {},
   "source": [
    "## Additional Goals"
   ]
  },
  {
   "cell_type": "markdown",
   "metadata": {},
   "source": [
    "### Haiku Writer"
   ]
  },
  {
   "cell_type": "code",
   "execution_count": 20,
   "metadata": {},
   "outputs": [
    {
     "name": "stdout",
     "output_type": "stream",
     "text": [
      "Mind therein of but\n",
      "This make for I hide forget\n",
      "Greater all more dead\n"
     ]
    }
   ],
   "source": [
    "hkw = HaikuWriter(hmmClass=HMM1,snClass=snShakespeare)\n",
    "thisHaikuList = hkw.write_poem(seed=123)"
   ]
  },
  {
   "cell_type": "markdown",
   "metadata": {},
   "source": [
    "## Visualization"
   ]
  },
  {
   "cell_type": "code",
   "execution_count": null,
   "metadata": {},
   "outputs": [],
   "source": []
  }
 ],
 "metadata": {
  "kernelspec": {
   "display_name": "Python 3 (ipykernel)",
   "language": "python",
   "name": "python3"
  },
  "language_info": {
   "codemirror_mode": {
    "name": "ipython",
    "version": 3
   },
   "file_extension": ".py",
   "mimetype": "text/x-python",
   "name": "python",
   "nbconvert_exporter": "python",
   "pygments_lexer": "ipython3",
   "version": "3.11.5"
  }
 },
 "nbformat": 4,
 "nbformat_minor": 4
}
