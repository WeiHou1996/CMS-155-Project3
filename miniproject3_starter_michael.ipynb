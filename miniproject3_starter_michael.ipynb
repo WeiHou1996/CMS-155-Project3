{
 "cells": [
  {
   "cell_type": "markdown",
   "metadata": {},
   "source": [
    "# Miniproject 3: Poem Generation"
   ]
  },
  {
   "cell_type": "markdown",
   "metadata": {},
   "source": [
    "### Download Data"
   ]
  },
  {
   "cell_type": "code",
   "execution_count": 1,
   "metadata": {},
   "outputs": [
    {
     "name": "stdout",
     "output_type": "stream",
     "text": [
      "Start downloading...\n"
     ]
    },
    {
     "name": "stdout",
     "output_type": "stream",
     "text": [
      "Complete\n",
      "Start downloading...\n",
      "Complete\n",
      "Start downloading...\n",
      "Complete\n",
      "Start downloading...\n",
      "Complete\n"
     ]
    }
   ],
   "source": [
    "import requests\n",
    "\n",
    "url_dict = {\n",
    "    'shakespeare.txt': 'https://caltech-cs155.s3.us-east-2.amazonaws.com/miniprojects/project3/data/shakespeare.txt',\n",
    "    'spenser.txt': 'https://caltech-cs155.s3.us-east-2.amazonaws.com/miniprojects/project3/data/spenser.txt',\n",
    "    'syllable_dict.txt' : 'https://caltech-cs155.s3.us-east-2.amazonaws.com/miniprojects/project3/data/Syllable_dictionary.txt',\n",
    "    'about_syllable_dict.docx' : 'https://caltech-cs155.s3.us-east-2.amazonaws.com/miniprojects/project3/data/syllable_dict_explanation.docx'\n",
    "}\n",
    "\n",
    "def download_file(file_path):\n",
    "    url = url_dict[file_path]\n",
    "    print('Start downloading...')\n",
    "    with requests.get(url, stream=True) as r:\n",
    "        r.raise_for_status()\n",
    "        with open(file_path, 'wb') as f:\n",
    "            for chunk in r.iter_content(chunk_size=1024 * 1024 * 1024):\n",
    "                f.write(chunk)\n",
    "    print('Complete')\n",
    "\n",
    "download_file('shakespeare.txt')\n",
    "download_file('spenser.txt')\n",
    "download_file('syllable_dict.txt')\n",
    "download_file('about_syllable_dict.docx')"
   ]
  },
  {
   "cell_type": "markdown",
   "metadata": {},
   "source": [
    "### Importing packages \\& Preprocessing"
   ]
  },
  {
   "cell_type": "code",
   "execution_count": 2,
   "metadata": {},
   "outputs": [],
   "source": [
    "# import Sonnet class and unsupervised_HMM function\n",
    "from Sonnet import Sonnet, SonnetStress\n",
    "from unsupervised_HMM import unsupervised_HMM\n",
    "from syllable_reader_2 import syllable_read\n",
    "from PoemWriter import SonnetWriter, SonnetStressWriter, HaikuWriter, SonnetRhymeWriter, LimerickWriter, PetrarchanSonnetWriter\n",
    "\n",
    "# # import CMU's pronunciation dictionary\n",
    "# import nltk\n",
    "# from nltk.corpus import cmudict\n",
    "# nltk.download('cmudict')\n",
    "# sylDictCMU = cmudict.dict()\n",
    "\n",
    "# process data (Syllables)\n",
    "sylDict = syllable_read('syllable_dict.txt')\n",
    "\n",
    "# process data (Shakespeare)\n",
    "snStressShakespeare = SonnetStress(filename=\"shakespeare.txt\",sequenceType=\"Stanza\",sylDict=sylDict)\n",
    "snShakespeare = Sonnet(filename=\"shakespeare.txt\",sequenceType=\"Stanza\",sylDict=sylDict)\n",
    "\n",
    "# # process data (Spenser)\n",
    "# snSpenser = Sonnet(filename=\"spenser.txt\",sequenceType=\"Stanza\",sylDict=sylDict)\n",
    "# snSpenser.read()\n",
    "# snSpenser.buildSequenceStr()\n",
    "# snSpenser.parse_observations()\n",
    "# snSpenser.obs_map_reverser()"
   ]
  },
  {
   "cell_type": "markdown",
   "metadata": {},
   "source": [
    "# Implementing Models"
   ]
  },
  {
   "cell_type": "markdown",
   "metadata": {},
   "source": [
    "## HMM Code"
   ]
  },
  {
   "cell_type": "code",
   "execution_count": 3,
   "metadata": {},
   "outputs": [],
   "source": [
    "HMM = unsupervised_HMM(snShakespeare.obs, n_states = 2, N_iters = 0, seed = 123)"
   ]
  },
  {
   "cell_type": "markdown",
   "metadata": {},
   "source": [
    "### Generate sample sonnet"
   ]
  },
  {
   "cell_type": "code",
   "execution_count": 4,
   "metadata": {},
   "outputs": [
    {
     "name": "stdout",
     "output_type": "stream",
     "text": [
      "Tongues the whilst play'st commit seeking confound\n",
      "Befriends forged hardest well-contented\n",
      "Churls fiend ruinate rehearse verse lusty\n",
      "Many marjoram report speak unbred\n",
      "Coloured changing merit confessed perceive\n",
      "Men frantic-mad weigh appears lifts lend smells\n",
      "Revolution jealous hawks expired put'st\n",
      "Shames story poisoned well decays jacks one\n",
      "Find straying travel declines featured used\n",
      "Kiss meet surly oppression hidden savour\n",
      "Cancelled short-numbered course active consum'st\n",
      "Kind defy uprear reign recite surly\n",
      "Sacred majesty mounted offices\n",
      "Clouds gave unswayed enjoy happy cannot.\n"
     ]
    }
   ],
   "source": [
    "snw = SonnetWriter(hmmClass=HMM,snClass=snShakespeare)\n",
    "thisSonnetList = snw.write_poem(seed=123)"
   ]
  },
  {
   "cell_type": "markdown",
   "metadata": {},
   "source": [
    "## RNN Code"
   ]
  },
  {
   "cell_type": "code",
   "execution_count": null,
   "metadata": {},
   "outputs": [],
   "source": []
  },
  {
   "cell_type": "markdown",
   "metadata": {},
   "source": [
    "## Additional Goals"
   ]
  },
  {
   "cell_type": "markdown",
   "metadata": {},
   "source": [
    "### Sonnet with Meter"
   ]
  },
  {
   "cell_type": "markdown",
   "metadata": {},
   "source": [
    "#### Train HMM"
   ]
  },
  {
   "cell_type": "code",
   "execution_count": 5,
   "metadata": {},
   "outputs": [],
   "source": [
    "HMM_Stress = unsupervised_HMM(snStressShakespeare.obs, n_states = 2, N_iters = 0, seed = 123)"
   ]
  },
  {
   "cell_type": "markdown",
   "metadata": {},
   "source": [
    "#### Write Sonnet"
   ]
  },
  {
   "cell_type": "code",
   "execution_count": 6,
   "metadata": {},
   "outputs": [
    {
     "name": "stdout",
     "output_type": "stream",
     "text": [
      "Art o'er-green thou brief built siege even mayst\n",
      "Wilful-slow thine tickled brain rain burthen\n",
      "Liquid private try unstained fool prove\n",
      "Burned distempered mind afar bear'st eye ten\n",
      "Neigh eyes sweet men's outcast registers two\n",
      "Clouds outstripped built truly evil bastard\n",
      "March resembling roof remember feasting\n",
      "Confined welcome climbed supposed offences\n",
      "Whit outworn disease should daily gild'st what's\n",
      "Children's onwards posting fiery object\n",
      "Self's afar them perspective themselves new\n",
      "Nor abused miscalled commence proceed eat\n",
      "Action eisel revolution borrowed\n",
      "Widowed never worms tall soil remembered\n"
     ]
    }
   ],
   "source": [
    "snw_Stress = SonnetStressWriter(hmmClass=HMM_Stress,snClass=snStressShakespeare)\n",
    "thisSonnetStressList = snw_Stress.write_poem(seed=123)"
   ]
  },
  {
   "cell_type": "markdown",
   "metadata": {},
   "source": [
    "### Rhyming Sonnet"
   ]
  },
  {
   "cell_type": "code",
   "execution_count": 7,
   "metadata": {},
   "outputs": [
    {
     "name": "stdout",
     "output_type": "stream",
     "text": [
      "Gave rich-proud where purposed passed befriends force\n",
      "Tyranny worthy please constancy frame\n",
      "Watch blessing bosom distills bier got horse\n",
      "Changing soft strongly silver beshrew same\n",
      "Lifts he's nature's storm-beaten errors air\n",
      "Sum habitation poet's did declines\n",
      "Pour'st cause threescore wastes gone stole fingers fair\n",
      "Debateth straying present-absent shines\n",
      "Acceptable wrackful eve's jewel faces\n",
      "Unswayed given living pipe better mark\n",
      "Surmount loud pleasant quill worthiness graces\n",
      "Strongly sometime take simply crowned hurt bark\n",
      "Weakness captive tribes wights o'er-read fulfil\n",
      "Hour 'greeing gains frown'st preserve sinful will.\n"
     ]
    }
   ],
   "source": [
    "snrw = SonnetRhymeWriter(hmmClass=HMM,snClass=snShakespeare)\n",
    "thisSonnetRhymeList = snrw.write_poem(seed=123)"
   ]
  },
  {
   "cell_type": "markdown",
   "metadata": {},
   "source": [
    "#### Sonnet with Rhyme and Meter"
   ]
  },
  {
   "cell_type": "code",
   "execution_count": 8,
   "metadata": {},
   "outputs": [],
   "source": [
    "#snrsw = SonnetRhymeStressWriter(hmmClass=HMM_Stress,snClass=snStressShakespeare)\n",
    "#thisSonnetRhymeStressList = snrsw.write_poem(seed=123)"
   ]
  },
  {
   "cell_type": "markdown",
   "metadata": {},
   "source": [
    "### Other Poem Structure"
   ]
  },
  {
   "cell_type": "markdown",
   "metadata": {},
   "source": [
    "#### Haiku"
   ]
  },
  {
   "cell_type": "code",
   "execution_count": 9,
   "metadata": {},
   "outputs": [
    {
     "name": "stdout",
     "output_type": "stream",
     "text": [
      "Bond write scythe ward sets\n",
      "Rider beauty's remover\n",
      "Needs tongues the whilst play'st\n"
     ]
    }
   ],
   "source": [
    "hkw = HaikuWriter(hmmClass=HMM,snClass=snShakespeare)\n",
    "thisHaikuList = hkw.write_poem(seed=123)"
   ]
  },
  {
   "cell_type": "markdown",
   "metadata": {},
   "source": [
    "#### Limerick"
   ]
  },
  {
   "cell_type": "code",
   "execution_count": 10,
   "metadata": {},
   "outputs": [
    {
     "name": "stdout",
     "output_type": "stream",
     "text": [
      "Tires gave rich-proud where purposed passed force\n",
      "Mars ruminate resty lord worth horse\n",
      "Curious yore harmful frame\n",
      "Public soft strangely same\n",
      "Most plead poet shadow bid fine horse.\n"
     ]
    }
   ],
   "source": [
    "limw = LimerickWriter(hmmClass=HMM,snClass=snShakespeare)\n",
    "thisLimerickList = limw.write_poem(seed=123)"
   ]
  },
  {
   "cell_type": "markdown",
   "metadata": {},
   "source": [
    "#### Petrarchan Sonnet"
   ]
  },
  {
   "cell_type": "code",
   "execution_count": 20,
   "metadata": {},
   "outputs": [
    {
     "name": "stdout",
     "output_type": "stream",
     "text": [
      "Bends begin prefiguring virtue frown\n",
      "Refuse touched bestow'st head breast sweetness graces\n",
      "Women's wastes crooked dull forbidden faces\n",
      "Gently comfort forget'st warrantise down\n",
      "Measured therefore admit saith breathers down\n",
      "Heed termed makeless took allow defects faces\n",
      "Bare war's silent dead gathered blots foist faces\n",
      "Wastes refuse case celestial living down\n",
      "Sound untrimmed takes viewest lion's one chief\n",
      "Debate mother dates lofty become painted\n",
      "Loan valley-fountain over-partial winds\n",
      "Brav'ry belied impiety point grief\n",
      "Brief lest wrong making bareness shade acquainted\n",
      "Two foregone commanded twire virtuous minds.\n"
     ]
    }
   ],
   "source": [
    "psw = PetrarchanSonnetWriter(hmmClass=HMM,snClass=snShakespeare)\n",
    "thisPetrarchanList = psw.write_poem(seed=122)"
   ]
  },
  {
   "cell_type": "markdown",
   "metadata": {},
   "source": [
    "## Visualization"
   ]
  },
  {
   "cell_type": "code",
   "execution_count": null,
   "metadata": {},
   "outputs": [],
   "source": []
  }
 ],
 "metadata": {
  "kernelspec": {
   "display_name": "Python 3 (ipykernel)",
   "language": "python",
   "name": "python3"
  },
  "language_info": {
   "codemirror_mode": {
    "name": "ipython",
    "version": 3
   },
   "file_extension": ".py",
   "mimetype": "text/x-python",
   "name": "python",
   "nbconvert_exporter": "python",
   "pygments_lexer": "ipython3",
   "version": "3.11.5"
  }
 },
 "nbformat": 4,
 "nbformat_minor": 4
}
