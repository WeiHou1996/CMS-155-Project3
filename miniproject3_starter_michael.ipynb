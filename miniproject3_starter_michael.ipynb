{
 "cells": [
  {
   "cell_type": "markdown",
   "metadata": {},
   "source": [
    "# Miniproject 3: Poem Generation"
   ]
  },
  {
   "cell_type": "markdown",
   "metadata": {},
   "source": [
    "### Download Data"
   ]
  },
  {
   "cell_type": "code",
   "execution_count": 1,
   "metadata": {},
   "outputs": [
    {
     "name": "stdout",
     "output_type": "stream",
     "text": [
      "Start downloading...\n",
      "Complete\n",
      "Start downloading...\n",
      "Complete\n",
      "Start downloading...\n",
      "Complete\n",
      "Start downloading...\n",
      "Complete\n"
     ]
    }
   ],
   "source": [
    "import requests\n",
    "\n",
    "url_dict = {\n",
    "    'shakespeare.txt': 'https://caltech-cs155.s3.us-east-2.amazonaws.com/miniprojects/project3/data/shakespeare.txt',\n",
    "    'spenser.txt': 'https://caltech-cs155.s3.us-east-2.amazonaws.com/miniprojects/project3/data/spenser.txt',\n",
    "    'syllable_dict.txt' : 'https://caltech-cs155.s3.us-east-2.amazonaws.com/miniprojects/project3/data/Syllable_dictionary.txt',\n",
    "    'about_syllable_dict.docx' : 'https://caltech-cs155.s3.us-east-2.amazonaws.com/miniprojects/project3/data/syllable_dict_explanation.docx'\n",
    "}\n",
    "\n",
    "def download_file(file_path):\n",
    "    url = url_dict[file_path]\n",
    "    print('Start downloading...')\n",
    "    with requests.get(url, stream=True) as r:\n",
    "        r.raise_for_status()\n",
    "        with open(file_path, 'wb') as f:\n",
    "            for chunk in r.iter_content(chunk_size=1024 * 1024 * 1024):\n",
    "                f.write(chunk)\n",
    "    print('Complete')\n",
    "\n",
    "download_file('shakespeare.txt')\n",
    "download_file('spenser.txt')\n",
    "download_file('syllable_dict.txt')\n",
    "download_file('about_syllable_dict.docx')"
   ]
  },
  {
   "cell_type": "markdown",
   "metadata": {},
   "source": [
    "### Importing packages \\& Preprocessing"
   ]
  },
  {
   "cell_type": "code",
   "execution_count": 2,
   "metadata": {},
   "outputs": [],
   "source": [
    "# import Sonnet class and unsupervised_HMM function\n",
    "from Sonnet import Sonnet\n",
    "from unsupervised_HMM import unsupervised_HMM\n",
    "from syllable_reader_2 import syllable_read\n",
    "from PoemWriter import SonnetWriter, HaikuWriter, SonnetRhymeWrite\n",
    "\n",
    "# # import CMU's pronunciation dictionary\n",
    "# import nltk\n",
    "# from nltk.corpus import cmudict\n",
    "# nltk.download('cmudict')\n",
    "# sylDictCMU = cmudict.dict()\n",
    "\n",
    "# process data (Syllables)\n",
    "sylDict = syllable_read('syllable_dict.txt')\n",
    "\n",
    "# process data (Shakespeare)\n",
    "snShakespeare = Sonnet(filename=\"shakespeare.txt\",sequenceType=\"Stanza\",sylDict=sylDict)\n",
    "snShakespeare.read()\n",
    "snShakespeare.buildRhymeDict()\n",
    "snShakespeare.buildSequenceStr()\n",
    "snShakespeare.parse_observations()\n",
    "snShakespeare.obs_map_reverser()\n",
    "\n",
    "# # process data (Spenser)\n",
    "# snSpenser = Sonnet(filename=\"spenser.txt\",sequenceType=\"Stanza\",sylDict=sylDict)\n",
    "# snSpenser.read()\n",
    "# snSpenser.buildSequenceStr()\n",
    "# snSpenser.parse_observations()\n",
    "# snSpenser.obs_map_reverser()"
   ]
  },
  {
   "cell_type": "markdown",
   "metadata": {},
   "source": [
    "# Implementing Models"
   ]
  },
  {
   "cell_type": "markdown",
   "metadata": {},
   "source": [
    "## HMM Code"
   ]
  },
  {
   "cell_type": "code",
   "execution_count": 3,
   "metadata": {},
   "outputs": [],
   "source": [
    "HMM1 = unsupervised_HMM(snShakespeare.obs, n_states = 2, N_iters = 0, seed = 123)"
   ]
  },
  {
   "cell_type": "markdown",
   "metadata": {},
   "source": [
    "### Generate sample sonnet"
   ]
  },
  {
   "cell_type": "code",
   "execution_count": 4,
   "metadata": {},
   "outputs": [
    {
     "name": "stdout",
     "output_type": "stream",
     "text": [
      "Fearful appears poor then closet woman's\n",
      "Office years world boughs seat monuments fears\n",
      "Amends seek sickness worthy daily bred\n",
      "Robbery whom noted whereupon possessed\n",
      "Crave mute others overturn among spends\n",
      "Leads sits endless embassy star haply\n",
      "Dig vowing infant's vaunt accessary\n",
      "Wherewith deceivest check prefiguring\n",
      "Quite compeers wardrobe admit torture shifts\n",
      "Warrantise do fall fortify suff'ring\n",
      "Graced discloses march limits swallowed\n",
      "Hope shake thanks rid aught privilege wish print\n",
      "Forth appeal crow refuse correspondence\n",
      "Fearfully wailing engrossed jade reigned sees.\n"
     ]
    }
   ],
   "source": [
    "snw = SonnetWriter(hmmClass=HMM1,snClass=snShakespeare)\n",
    "thisSonnetList = snw.write_poem(seed=123)"
   ]
  },
  {
   "cell_type": "markdown",
   "metadata": {},
   "source": [
    "## RNN Code"
   ]
  },
  {
   "cell_type": "code",
   "execution_count": null,
   "metadata": {},
   "outputs": [],
   "source": []
  },
  {
   "cell_type": "markdown",
   "metadata": {},
   "source": [
    "## Additional Goals"
   ]
  },
  {
   "cell_type": "markdown",
   "metadata": {},
   "source": [
    "### Rhyming Sonnet"
   ]
  },
  {
   "cell_type": "code",
   "execution_count": 14,
   "metadata": {},
   "outputs": [
    {
     "name": "stdout",
     "output_type": "stream",
     "text": [
      "Whom 'twixt whereupon possessed wherein force\n",
      "Mute others overturn among spends glass\n",
      "Wand'rest truant soul's bring covetous horse\n",
      "Yellowed motion forsake hopes style reign was\n",
      "Exceeds sight honey are wound prevent'st sell\n",
      "Out badges make felt twice excel declines\n",
      "Plods threescore since frame afloat hunted well\n",
      "Check prefiguring workings credit shines\n",
      "Fall fortify suff'ring messengers faces\n",
      "Graced foison seen kills chips substance mark\n",
      "Done modern outright unworthiness graces\n",
      "Winds back dates service grow'st marvel gulls bark\n",
      "Wert vow random greater pine keep untold\n",
      "Rainy gains patient motley abused hold\n"
     ]
    }
   ],
   "source": [
    "snrw = SonnetRhymeWrite(hmmClass=HMM1,snClass=snShakespeare)\n",
    "thisSonnetRhymeList = snrw.write_poem(seed=123)"
   ]
  },
  {
   "cell_type": "markdown",
   "metadata": {},
   "source": [
    "### Haiku Writer"
   ]
  },
  {
   "cell_type": "code",
   "execution_count": 6,
   "metadata": {},
   "outputs": [
    {
     "name": "stdout",
     "output_type": "stream",
     "text": [
      "He takes catch therefore\n",
      "Earth mightier twilight poet's\n",
      "Foe blesses twilight.\n"
     ]
    }
   ],
   "source": [
    "hkw = HaikuWriter(hmmClass=HMM1,snClass=snShakespeare)\n",
    "thisHaikuList = hkw.write_poem(seed=123)"
   ]
  },
  {
   "cell_type": "markdown",
   "metadata": {},
   "source": [
    "## Visualization"
   ]
  },
  {
   "cell_type": "code",
   "execution_count": null,
   "metadata": {},
   "outputs": [],
   "source": []
  }
 ],
 "metadata": {
  "kernelspec": {
   "display_name": "Python 3 (ipykernel)",
   "language": "python",
   "name": "python3"
  },
  "language_info": {
   "codemirror_mode": {
    "name": "ipython",
    "version": 3
   },
   "file_extension": ".py",
   "mimetype": "text/x-python",
   "name": "python",
   "nbconvert_exporter": "python",
   "pygments_lexer": "ipython3",
   "version": "3.11.5"
  }
 },
 "nbformat": 4,
 "nbformat_minor": 4
}
