{
 "cells": [
  {
   "cell_type": "markdown",
   "metadata": {},
   "source": [
    "# Miniproject 3: Poem Generation"
   ]
  },
  {
   "cell_type": "markdown",
   "metadata": {},
   "source": [
    "### Download Data"
   ]
  },
  {
   "cell_type": "code",
   "execution_count": 1,
   "metadata": {},
   "outputs": [
    {
     "name": "stdout",
     "output_type": "stream",
     "text": [
      "Start downloading...\n",
      "Complete\n",
      "Start downloading...\n",
      "Complete\n",
      "Start downloading...\n",
      "Complete\n",
      "Start downloading...\n",
      "Complete\n"
     ]
    }
   ],
   "source": [
    "import requests\n",
    "\n",
    "url_dict = {\n",
    "    'shakespeare.txt': 'https://caltech-cs155.s3.us-east-2.amazonaws.com/miniprojects/project3/data/shakespeare.txt',\n",
    "    'spenser.txt': 'https://caltech-cs155.s3.us-east-2.amazonaws.com/miniprojects/project3/data/spenser.txt',\n",
    "    'syllable_dict.txt' : 'https://caltech-cs155.s3.us-east-2.amazonaws.com/miniprojects/project3/data/Syllable_dictionary.txt',\n",
    "    'about_syllable_dict.docx' : 'https://caltech-cs155.s3.us-east-2.amazonaws.com/miniprojects/project3/data/syllable_dict_explanation.docx'\n",
    "}\n",
    "\n",
    "def download_file(file_path):\n",
    "    url = url_dict[file_path]\n",
    "    print('Start downloading...')\n",
    "    with requests.get(url, stream=True) as r:\n",
    "        r.raise_for_status()\n",
    "        with open(file_path, 'wb') as f:\n",
    "            for chunk in r.iter_content(chunk_size=1024 * 1024 * 1024):\n",
    "                f.write(chunk)\n",
    "    print('Complete')\n",
    "\n",
    "download_file('shakespeare.txt')\n",
    "download_file('spenser.txt')\n",
    "download_file('syllable_dict.txt')\n",
    "download_file('about_syllable_dict.docx')"
   ]
  },
  {
   "cell_type": "markdown",
   "metadata": {},
   "source": [
    "### Importing packages \\& Preprocessing"
   ]
  },
  {
   "cell_type": "code",
   "execution_count": 2,
   "metadata": {},
   "outputs": [],
   "source": [
    "# import Sonnet class and unsupervised_HMM function\n",
    "from Sonnet import Sonnet\n",
    "from unsupervised_HMM import unsupervised_HMM\n",
    "from syllable_reader_2 import syllable_read\n",
    "from sonnet_generation import sample_sonnet\n",
    "\n",
    "# process data (Syllables)\n",
    "sylDict = syllable_read('syllable_dict.txt') \n",
    "\n",
    "# process data (Shakespeare)\n",
    "snShakespeare = Sonnet(filename=\"shakespeare.txt\",sequenceType=\"Stanza\",sylDict=sylDict)\n",
    "snShakespeare.read()\n",
    "snShakespeare.buildSequenceStr()\n",
    "snShakespeare.parse_observations()\n",
    "snShakespeare.obs_map_reverser()\n",
    "\n",
    "# # process data (Spenser)\n",
    "# snSpenser = Sonnet(filename=\"spenser.txt\",sequenceType=\"Stanza\",sylDict=sylDict)\n",
    "# snSpenser.read()\n",
    "# snSpenser.buildSequenceStr()\n",
    "# snSpenser.parse_observations()\n",
    "# snSpenser.obs_map_reverser()"
   ]
  },
  {
   "cell_type": "markdown",
   "metadata": {},
   "source": [
    "# Implementing Models"
   ]
  },
  {
   "cell_type": "markdown",
   "metadata": {},
   "source": [
    "## HMM Code"
   ]
  },
  {
   "cell_type": "code",
   "execution_count": 3,
   "metadata": {},
   "outputs": [
    {
     "name": "stdout",
     "output_type": "stream",
     "text": [
      "Iteration:  1\n"
     ]
    }
   ],
   "source": [
    "HMM1 = unsupervised_HMM(snShakespeare.obs, n_states = 2, N_iters = 1, seed = 123)"
   ]
  },
  {
   "cell_type": "markdown",
   "metadata": {},
   "source": [
    "### Generate sample sonnet"
   ]
  },
  {
   "cell_type": "code",
   "execution_count": 28,
   "metadata": {},
   "outputs": [
    {
     "name": "stdout",
     "output_type": "stream",
     "text": [
      "Nought loves thine the would life and excel faith\n",
      "Th' my praise bevel a passed of and having\n",
      "She of all admit sound look that and you\n",
      "Learning of it how far that widowed that\n",
      "Was buy quill batt'ring bad should is till now\n",
      "Plods is for thine and flesh in many either thinks\n",
      "All mistress such end wilful an waste dost\n",
      "Time beweep time in true that on that look\n",
      "Assured may since answer not shall fine\n",
      "That not the come my of heaven my away\n",
      "Breath to of me our of you thy that\n",
      "Wished slept then writ means injuries esteeming\n",
      "Age white might thy I my haste shall knows her\n",
      "Niggard to gaze thee too worth thy wilt the\n",
      "\n",
      "226\n"
     ]
    }
   ],
   "source": [
    "thisSonnetList, seed0 = sample_sonnet(HMM1,snShakespeare)\n",
    "print()\n",
    "print(seed0)"
   ]
  },
  {
   "cell_type": "markdown",
   "metadata": {},
   "source": [
    "## RNN Code"
   ]
  },
  {
   "cell_type": "code",
   "execution_count": null,
   "metadata": {},
   "outputs": [],
   "source": []
  },
  {
   "cell_type": "markdown",
   "metadata": {},
   "source": [
    "## Additional Goal"
   ]
  },
  {
   "cell_type": "code",
   "execution_count": null,
   "metadata": {},
   "outputs": [],
   "source": []
  },
  {
   "cell_type": "markdown",
   "metadata": {},
   "source": [
    "## Visualization"
   ]
  },
  {
   "cell_type": "code",
   "execution_count": null,
   "metadata": {},
   "outputs": [],
   "source": []
  }
 ],
 "metadata": {
  "kernelspec": {
   "display_name": "Python 3 (ipykernel)",
   "language": "python",
   "name": "python3"
  },
  "language_info": {
   "codemirror_mode": {
    "name": "ipython",
    "version": 3
   },
   "file_extension": ".py",
   "mimetype": "text/x-python",
   "name": "python",
   "nbconvert_exporter": "python",
   "pygments_lexer": "ipython3",
   "version": "3.11.5"
  }
 },
 "nbformat": 4,
 "nbformat_minor": 4
}
