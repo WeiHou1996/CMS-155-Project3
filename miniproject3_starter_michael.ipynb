{
 "cells": [
  {
   "cell_type": "markdown",
   "metadata": {},
   "source": [
    "# Miniproject 3: Poem Generation"
   ]
  },
  {
   "cell_type": "markdown",
   "metadata": {},
   "source": [
    "### Download Data"
   ]
  },
  {
   "cell_type": "code",
   "execution_count": 1,
   "metadata": {},
   "outputs": [
    {
     "name": "stdout",
     "output_type": "stream",
     "text": [
      "Start downloading...\n",
      "Complete\n",
      "Start downloading...\n",
      "Complete\n",
      "Start downloading...\n",
      "Complete\n",
      "Start downloading...\n",
      "Complete\n"
     ]
    }
   ],
   "source": [
    "import requests\n",
    "\n",
    "url_dict = {\n",
    "    'shakespeare.txt': 'https://caltech-cs155.s3.us-east-2.amazonaws.com/miniprojects/project3/data/shakespeare.txt',\n",
    "    'spenser.txt': 'https://caltech-cs155.s3.us-east-2.amazonaws.com/miniprojects/project3/data/spenser.txt',\n",
    "    'syllable_dict.txt' : 'https://caltech-cs155.s3.us-east-2.amazonaws.com/miniprojects/project3/data/Syllable_dictionary.txt',\n",
    "    'about_syllable_dict.docx' : 'https://caltech-cs155.s3.us-east-2.amazonaws.com/miniprojects/project3/data/syllable_dict_explanation.docx'\n",
    "}\n",
    "\n",
    "def download_file(file_path):\n",
    "    url = url_dict[file_path]\n",
    "    print('Start downloading...')\n",
    "    with requests.get(url, stream=True) as r:\n",
    "        r.raise_for_status()\n",
    "        with open(file_path, 'wb') as f:\n",
    "            for chunk in r.iter_content(chunk_size=1024 * 1024 * 1024):\n",
    "                f.write(chunk)\n",
    "    print('Complete')\n",
    "\n",
    "download_file('shakespeare.txt')\n",
    "download_file('spenser.txt')\n",
    "download_file('syllable_dict.txt')\n",
    "download_file('about_syllable_dict.docx')"
   ]
  },
  {
   "cell_type": "markdown",
   "metadata": {},
   "source": [
    "### Importing packages \\& Preprocessing"
   ]
  },
  {
   "cell_type": "code",
   "execution_count": 2,
   "metadata": {},
   "outputs": [],
   "source": [
    "# import Sonnet class and unsupervised_HMM function\n",
    "from Sonnet import Sonnet, SonnetStress\n",
    "from unsupervised_HMM import unsupervised_HMM\n",
    "from syllable_reader_2 import syllable_read\n",
    "from PoemWriter import SonnetWriter, SonnetStressWriter, SonnetRhymeWriter, SonnetRhymeStressWriter\n",
    "from PoemWriter import HaikuWriter, LimerickWriter, PetrarchanSonnetWriter\n",
    "\n",
    "# # import CMU's pronunciation dictionary\n",
    "# import nltk\n",
    "# from nltk.corpus import cmudict\n",
    "# nltk.download('cmudict')\n",
    "# sylDictCMU = cmudict.dict()\n",
    "\n",
    "# process data (Syllables)\n",
    "sylDict = syllable_read('syllable_dict.txt')\n",
    "\n",
    "# process data (Shakespeare)\n",
    "snStressShakespeare = SonnetStress(filename=\"shakespeare.txt\",sequenceType=\"Stanza\",sylDict=sylDict)\n",
    "snShakespeare = Sonnet(filename=\"shakespeare.txt\",sequenceType=\"Stanza\",sylDict=sylDict)\n",
    "\n",
    "# # process data (Spenser)\n",
    "# snSpenser = Sonnet(filename=\"spenser.txt\",sequenceType=\"Stanza\",sylDict=sylDict)\n",
    "# snSpenser.read()\n",
    "# snSpenser.buildSequenceStr()\n",
    "# snSpenser.parse_observations()\n",
    "# snSpenser.obs_map_reverser()"
   ]
  },
  {
   "cell_type": "markdown",
   "metadata": {},
   "source": [
    "# Implementing Models"
   ]
  },
  {
   "cell_type": "markdown",
   "metadata": {},
   "source": [
    "## HMM Code"
   ]
  },
  {
   "cell_type": "code",
   "execution_count": 3,
   "metadata": {},
   "outputs": [],
   "source": [
    "HMM = unsupervised_HMM(snShakespeare.obs, n_states = 2, N_iters = 0, seed = 123)"
   ]
  },
  {
   "cell_type": "markdown",
   "metadata": {},
   "source": [
    "### Generate sample sonnet"
   ]
  },
  {
   "cell_type": "code",
   "execution_count": 4,
   "metadata": {},
   "outputs": [
    {
     "name": "stdout",
     "output_type": "stream",
     "text": [
      "Tongues the whilst play'st commit seeking confound\n",
      "Befriends forged hardest well-contented\n",
      "Churls fiend ruinate rehearse verse lusty\n",
      "Many marjoram report speak unbred\n",
      "Coloured changing merit confessed perceive\n",
      "Men frantic-mad weigh appears lifts lend smells\n",
      "Revolution jealous hawks expired put'st\n",
      "Shames story poisoned well decays jacks one\n",
      "Find straying travel declines featured used\n",
      "Kiss meet surly oppression hidden savour\n",
      "Cancelled short-numbered course active consum'st\n",
      "Kind defy uprear reign recite surly\n",
      "Sacred majesty mounted offices\n",
      "Clouds gave unswayed enjoy happy cannot.\n"
     ]
    }
   ],
   "source": [
    "snw = SonnetWriter(hmmClass=HMM,snClass=snShakespeare)\n",
    "thisSonnetList = snw.write_poem(seed=123)"
   ]
  },
  {
   "cell_type": "markdown",
   "metadata": {},
   "source": [
    "## RNN Code"
   ]
  },
  {
   "cell_type": "code",
   "execution_count": null,
   "metadata": {},
   "outputs": [],
   "source": []
  },
  {
   "cell_type": "markdown",
   "metadata": {},
   "source": [
    "## Additional Goals"
   ]
  },
  {
   "cell_type": "markdown",
   "metadata": {},
   "source": [
    "### Sonnet with Meter"
   ]
  },
  {
   "cell_type": "markdown",
   "metadata": {},
   "source": [
    "#### Train HMM"
   ]
  },
  {
   "cell_type": "code",
   "execution_count": 5,
   "metadata": {},
   "outputs": [],
   "source": [
    "HMM_Stress = unsupervised_HMM(snStressShakespeare.obs, n_states = 2, N_iters = 0, seed = 123)"
   ]
  },
  {
   "cell_type": "markdown",
   "metadata": {},
   "source": [
    "#### Write Sonnet"
   ]
  },
  {
   "cell_type": "code",
   "execution_count": 6,
   "metadata": {},
   "outputs": [
    {
     "name": "stdout",
     "output_type": "stream",
     "text": [
      "Your hems tincture lilies love mars uprear\n",
      "December's third appeal under yea pine\n",
      "Remove consider pour'st richly remain\n",
      "You moment graces win forsake devised\n",
      "True-telling mended fool begins transferred\n",
      "Fool undivided separable bent\n",
      "Outworn disease should daily gild'st what's chopt\n",
      "Physicians cunning shaken lived unswayed\n",
      "Too birds counting contracted jollity\n",
      "Use prophecies contains unseen might rolling\n",
      "Defendant voices been time gay awakes\n",
      "Sets all beloved deserts crooked commence\n",
      "Born frailer onset middle chronicle\n",
      "Thy dry sins longing loss add knit makes fade\n"
     ]
    }
   ],
   "source": [
    "snw_Stress = SonnetStressWriter(hmmClass=HMM_Stress,snClass=snStressShakespeare)\n",
    "thisSonnetStressList = snw_Stress.write_poem(seed=123)"
   ]
  },
  {
   "cell_type": "markdown",
   "metadata": {},
   "source": [
    "### Rhyming Sonnet"
   ]
  },
  {
   "cell_type": "code",
   "execution_count": 7,
   "metadata": {},
   "outputs": [
    {
     "name": "stdout",
     "output_type": "stream",
     "text": [
      "Greatest tune freedom bears feeds sharp hues bow\n",
      "Dear-purchased strangely soft favour compare\n",
      "Beseechers expense befriends confound now\n",
      "Save wantonly himself blessing watch rare\n",
      "Where answer borrowed sheaves committed skill\n",
      "Report darkening marjoram offend thus\n",
      "O'erlook either's vouchsafe surmise go ill\n",
      "Thinly wiry nightly hath over-plus\n",
      "Spites ruining won tall fingers stole finds\n",
      "Odours got hateth kiss hour even o'erworn\n",
      "Tongue's commence hatred by guest decree minds\n",
      "Pearl reigns feeling overturn sightless morn\n",
      "Fault ten learned ambush become bars held taken\n",
      "Debt exceeds becomes depend trenches shaken.\n"
     ]
    }
   ],
   "source": [
    "snrw = SonnetRhymeWriter(hmmClass=HMM,snClass=snShakespeare)\n",
    "thisSonnetRhymeList = snrw.write_poem(seed=123)"
   ]
  },
  {
   "cell_type": "markdown",
   "metadata": {},
   "source": [
    "#### Sonnet with Rhyme and Meter"
   ]
  },
  {
   "cell_type": "code",
   "execution_count": 8,
   "metadata": {},
   "outputs": [
    {
     "name": "stdout",
     "output_type": "stream",
     "text": [
      "Wherewith being boy appeal therein rank bow\n",
      "Define lo bait perceive respose compare\n",
      "Sap hatred hems goest taker bases now\n",
      "Victor esteemed knows spot forsworn eyes rare\n",
      "From truly coward trenches sensual skill\n",
      "Remembrance equipage engraft though thus\n",
      "Go insufficiency wise sickle's ill\n",
      "Resembling kind untrimmed shalt over-plus\n",
      "Shouldst sicken bright keeps discloses known finds\n",
      "Lord fortune worthier idol lived o'erworn\n",
      "Things felt use jollity committed minds\n",
      "Life's fled might grave growing took ashes morn\n",
      "Towards feasting saturn earthly proudest taken\n",
      "Cheeks tables hasten servant gaudy shaken.\n"
     ]
    }
   ],
   "source": [
    "snrsw = SonnetRhymeStressWriter(hmmClass=HMM_Stress,snClass=snStressShakespeare)\n",
    "thisSonnetRhymeStressList = snrsw.write_poem(seed=123)"
   ]
  },
  {
   "cell_type": "markdown",
   "metadata": {},
   "source": [
    "### Other Poem Structure"
   ]
  },
  {
   "cell_type": "markdown",
   "metadata": {},
   "source": [
    "#### Haiku"
   ]
  },
  {
   "cell_type": "code",
   "execution_count": 9,
   "metadata": {},
   "outputs": [
    {
     "name": "stdout",
     "output_type": "stream",
     "text": [
      "Bond write scythe ward sets\n",
      "Rider beauty's remover\n",
      "Needs tongues the whilst play'st\n"
     ]
    }
   ],
   "source": [
    "hkw = HaikuWriter(hmmClass=HMM,snClass=snShakespeare)\n",
    "thisHaikuList = hkw.write_poem(seed=123)"
   ]
  },
  {
   "cell_type": "markdown",
   "metadata": {},
   "source": [
    "#### Limerick"
   ]
  },
  {
   "cell_type": "code",
   "execution_count": 10,
   "metadata": {},
   "outputs": [
    {
     "name": "stdout",
     "output_type": "stream",
     "text": [
      "Am unkindness befriends passed frowns where\n",
      "Beauty's sweetly rider making there\n",
      "Tombed riper absence skill\n",
      "Blessing watch fine crave ill\n",
      "Days self-example write fiery clear.\n"
     ]
    }
   ],
   "source": [
    "limw = LimerickWriter(hmmClass=HMM,snClass=snShakespeare)\n",
    "thisLimerickList = limw.write_poem(seed=123)"
   ]
  },
  {
   "cell_type": "markdown",
   "metadata": {},
   "source": [
    "#### Petrarchan Sonnet"
   ]
  },
  {
   "cell_type": "code",
   "execution_count": 11,
   "metadata": {},
   "outputs": [
    {
     "name": "stdout",
     "output_type": "stream",
     "text": [
      "Beauty's sweetly rider making erst where\n",
      "Shadow poet plead most gazeth expressed\n",
      "Days self-example write fiery moon best\n",
      "Influence bond woman scope written there\n",
      "Number fell play out lesson confessed clear\n",
      "What's sourly won himself term lacking breast\n",
      "Condemned mow siren impair unrest\n",
      "Kings hungry fixed deceased plead appear\n",
      "Thinly story hideous shames put'st o'er-read\n",
      "Tillage hands pent cheap eloquence bough chary\n",
      "Acceptable trust featured term defaced\n",
      "Savour report deceased into dead\n",
      "Sicken accident fadeth appeal wary\n",
      "Anchored dedicated wherein down-rased.\n"
     ]
    }
   ],
   "source": [
    "psw = PetrarchanSonnetWriter(hmmClass=HMM,snClass=snShakespeare)\n",
    "thisPetrarchanList = psw.write_poem(seed=123)"
   ]
  },
  {
   "cell_type": "markdown",
   "metadata": {},
   "source": [
    "## Visualization"
   ]
  },
  {
   "cell_type": "code",
   "execution_count": null,
   "metadata": {},
   "outputs": [],
   "source": []
  }
 ],
 "metadata": {
  "kernelspec": {
   "display_name": "Python 3 (ipykernel)",
   "language": "python",
   "name": "python3"
  },
  "language_info": {
   "codemirror_mode": {
    "name": "ipython",
    "version": 3
   },
   "file_extension": ".py",
   "mimetype": "text/x-python",
   "name": "python",
   "nbconvert_exporter": "python",
   "pygments_lexer": "ipython3",
   "version": "3.11.5"
  }
 },
 "nbformat": 4,
 "nbformat_minor": 4
}
