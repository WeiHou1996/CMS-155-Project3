{
 "cells": [
  {
   "cell_type": "markdown",
   "metadata": {},
   "source": [
    "# Miniproject 3: Poem Generation"
   ]
  },
  {
   "cell_type": "markdown",
   "metadata": {},
   "source": [
    "### Download Data"
   ]
  },
  {
   "cell_type": "code",
   "execution_count": 12,
   "metadata": {},
   "outputs": [
    {
     "name": "stdout",
     "output_type": "stream",
     "text": [
      "Start downloading...\n",
      "Complete\n",
      "Start downloading...\n",
      "Complete\n",
      "Start downloading...\n",
      "Complete\n",
      "Start downloading...\n",
      "Complete\n"
     ]
    }
   ],
   "source": [
    "import requests\n",
    "\n",
    "url_dict = {\n",
    "    'shakespeare.txt': 'https://caltech-cs155.s3.us-east-2.amazonaws.com/miniprojects/project3/data/shakespeare.txt',\n",
    "    'spenser.txt': 'https://caltech-cs155.s3.us-east-2.amazonaws.com/miniprojects/project3/data/spenser.txt',\n",
    "    'syllable_dict.txt' : 'https://caltech-cs155.s3.us-east-2.amazonaws.com/miniprojects/project3/data/Syllable_dictionary.txt',\n",
    "    'about_syllable_dict.docx' : 'https://caltech-cs155.s3.us-east-2.amazonaws.com/miniprojects/project3/data/syllable_dict_explanation.docx'\n",
    "}\n",
    "\n",
    "def download_file(file_path):\n",
    "    url = url_dict[file_path]\n",
    "    print('Start downloading...')\n",
    "    with requests.get(url, stream=True) as r:\n",
    "        r.raise_for_status()\n",
    "        with open(file_path, 'wb') as f:\n",
    "            for chunk in r.iter_content(chunk_size=1024 * 1024 * 1024):\n",
    "                f.write(chunk)\n",
    "    print('Complete')\n",
    "\n",
    "download_file('shakespeare.txt')\n",
    "download_file('spenser.txt')\n",
    "download_file('syllable_dict.txt')\n",
    "download_file('about_syllable_dict.docx')"
   ]
  },
  {
   "cell_type": "markdown",
   "metadata": {},
   "source": [
    "### Importing packages \\& Preprocessing"
   ]
  },
  {
   "cell_type": "code",
   "execution_count": 13,
   "metadata": {},
   "outputs": [],
   "source": [
    "# import Sonnet class and unsupervised_HMM function\n",
    "from Sonnet import Sonnet, SonnetStress\n",
    "from unsupervised_HMM import unsupervised_HMM\n",
    "from syllable_reader_2 import syllable_read\n",
    "from PoemWriter import SonnetWriter, SonnetStressWriter, SonnetRhymeWriter, SonnetRhymeStressWriter\n",
    "from PoemWriter import HaikuWriter, LimerickWriter, PetrarchanSonnetWriter\n",
    "\n",
    "# # import CMU's pronunciation dictionary\n",
    "# import nltk\n",
    "# from nltk.corpus import cmudict\n",
    "# nltk.download('cmudict')\n",
    "# sylDictCMU = cmudict.dict()\n",
    "\n",
    "# process data (Syllables)\n",
    "sylDict = syllable_read('syllable_dict.txt')\n",
    "\n",
    "# process data (Shakespeare)\n",
    "snStressShakespeare = SonnetStress(filename=\"shakespeare.txt\",sequenceType=\"Stanza\",sylDict=sylDict)\n",
    "snShakespeare = Sonnet(filename=\"shakespeare.txt\",sequenceType=\"Stanza\",sylDict=sylDict)\n",
    "\n",
    "# # process data (Spenser)\n",
    "# snSpenser = Sonnet(filename=\"spenser.txt\",sequenceType=\"Stanza\",sylDict=sylDict)\n",
    "# snSpenser.read()\n",
    "# snSpenser.buildSequenceStr()\n",
    "# snSpenser.parse_observations()\n",
    "# snSpenser.obs_map_reverser()"
   ]
  },
  {
   "cell_type": "markdown",
   "metadata": {},
   "source": [
    "# Implementing Models"
   ]
  },
  {
   "cell_type": "markdown",
   "metadata": {},
   "source": [
    "## HMM Code"
   ]
  },
  {
   "cell_type": "code",
   "execution_count": null,
   "metadata": {},
   "outputs": [],
   "source": [
    "HMM6 = unsupervised_HMM(snShakespeare.obs, n_states = 6, N_iters = 100, seed = 123)"
   ]
  },
  {
   "cell_type": "code",
   "execution_count": null,
   "metadata": {},
   "outputs": [],
   "source": [
    "HMM8 = unsupervised_HMM(snShakespeare.obs, n_states = 8, N_iters = 100, seed = 123)"
   ]
  },
  {
   "cell_type": "code",
   "execution_count": 14,
   "metadata": {},
   "outputs": [
    {
     "name": "stdout",
     "output_type": "stream",
     "text": [
      "HMM Training iteration 1\n",
      "A error 4.226877e-02, O error 2.583134e-01\n",
      "HMM Training iteration 2\n",
      "A error 1.066526e-02, O error 6.513089e-03\n",
      "HMM Training iteration 3\n",
      "A error 2.060608e-02, O error 8.330424e-03\n",
      "HMM Training iteration 4\n",
      "A error 3.260000e-02, O error 1.103900e-02\n",
      "HMM Training iteration 5\n",
      "A error 4.675132e-02, O error 1.425195e-02\n",
      "HMM Training iteration 6\n",
      "A error 6.273072e-02, O error 1.777647e-02\n",
      "HMM Training iteration 7\n",
      "A error 7.928227e-02, O error 2.133266e-02\n",
      "HMM Training iteration 8\n",
      "A error 9.392316e-02, O error 2.443001e-02\n",
      "HMM Training iteration 9\n",
      "A error 1.031838e-01, O error 2.642937e-02\n",
      "HMM Training iteration 10\n",
      "A error 1.042727e-01, O error 2.696380e-02\n",
      "HMM Training iteration 11\n",
      "A error 9.761348e-02, O error 2.638683e-02\n",
      "HMM Training iteration 12\n",
      "A error 8.687418e-02, O error 2.514386e-02\n",
      "HMM Training iteration 13\n",
      "A error 7.596887e-02, O error 2.313207e-02\n",
      "HMM Training iteration 14\n",
      "A error 6.667876e-02, O error 2.033307e-02\n",
      "HMM Training iteration 15\n",
      "A error 5.947552e-02, O error 1.736250e-02\n",
      "HMM Training iteration 16\n",
      "A error 5.378395e-02, O error 1.472330e-02\n",
      "HMM Training iteration 17\n",
      "A error 4.871885e-02, O error 1.244722e-02\n",
      "HMM Training iteration 18\n",
      "A error 4.406901e-02, O error 1.075686e-02\n",
      "HMM Training iteration 19\n",
      "A error 3.989944e-02, O error 9.537624e-03\n",
      "HMM Training iteration 20\n",
      "A error 3.637324e-02, O error 8.614663e-03\n",
      "HMM Training iteration 21\n",
      "A error 3.323436e-02, O error 7.895945e-03\n",
      "HMM Training iteration 22\n",
      "A error 3.013659e-02, O error 7.458137e-03\n",
      "HMM Training iteration 23\n",
      "A error 2.707252e-02, O error 7.132143e-03\n",
      "HMM Training iteration 24\n",
      "A error 2.439883e-02, O error 6.804014e-03\n",
      "HMM Training iteration 25\n",
      "A error 2.258251e-02, O error 6.524217e-03\n",
      "HMM Training iteration 26\n",
      "A error 2.140385e-02, O error 6.449005e-03\n",
      "HMM Training iteration 27\n",
      "A error 2.057471e-02, O error 6.478702e-03\n",
      "HMM Training iteration 28\n",
      "A error 1.951503e-02, O error 6.449345e-03\n",
      "HMM Training iteration 29\n",
      "A error 1.840224e-02, O error 6.379280e-03\n",
      "HMM Training iteration 30\n",
      "A error 1.749541e-02, O error 6.267838e-03\n",
      "HMM Training iteration 31\n",
      "A error 1.655549e-02, O error 5.991514e-03\n",
      "HMM Training iteration 32\n",
      "A error 1.558942e-02, O error 5.816803e-03\n",
      "HMM Training iteration 33\n",
      "A error 1.461036e-02, O error 5.536709e-03\n",
      "HMM Training iteration 34\n",
      "A error 1.387941e-02, O error 5.317611e-03\n",
      "HMM Training iteration 35\n",
      "A error 1.349122e-02, O error 5.332728e-03\n",
      "HMM Training iteration 36\n",
      "A error 1.306613e-02, O error 5.066953e-03\n",
      "HMM Training iteration 37\n",
      "A error 1.215170e-02, O error 4.360572e-03\n",
      "HMM Training iteration 38\n",
      "A error 1.151813e-02, O error 3.915535e-03\n",
      "HMM Training iteration 39\n",
      "A error 1.136175e-02, O error 3.742993e-03\n",
      "HMM Training iteration 40\n",
      "A error 1.094987e-02, O error 3.561533e-03\n",
      "HMM Training iteration 41\n",
      "A error 1.010753e-02, O error 3.233842e-03\n",
      "HMM Training iteration 42\n",
      "A error 9.425947e-03, O error 3.044588e-03\n",
      "HMM Training iteration 43\n",
      "A error 8.699331e-03, O error 2.809601e-03\n",
      "HMM Training iteration 44\n",
      "A error 7.988863e-03, O error 2.671425e-03\n",
      "HMM Training iteration 45\n",
      "A error 7.646320e-03, O error 2.738225e-03\n",
      "HMM Training iteration 46\n",
      "A error 7.454867e-03, O error 2.818994e-03\n",
      "HMM Training iteration 47\n",
      "A error 7.040819e-03, O error 2.682397e-03\n",
      "HMM Training iteration 48\n",
      "A error 6.358607e-03, O error 2.392380e-03\n",
      "HMM Training iteration 49\n",
      "A error 5.770764e-03, O error 2.192694e-03\n",
      "HMM Training iteration 50\n",
      "A error 5.350290e-03, O error 2.044360e-03\n",
      "HMM Training iteration 51\n",
      "A error 5.019791e-03, O error 1.960240e-03\n",
      "HMM Training iteration 52\n",
      "A error 4.922611e-03, O error 2.016473e-03\n",
      "HMM Training iteration 53\n",
      "A error 4.817429e-03, O error 1.958091e-03\n",
      "HMM Training iteration 54\n",
      "A error 4.875365e-03, O error 2.083531e-03\n",
      "HMM Training iteration 55\n",
      "A error 5.107510e-03, O error 2.228274e-03\n",
      "HMM Training iteration 56\n",
      "A error 4.885428e-03, O error 2.188107e-03\n",
      "HMM Training iteration 57\n",
      "A error 4.524942e-03, O error 2.218419e-03\n",
      "HMM Training iteration 58\n",
      "A error 4.209292e-03, O error 2.161261e-03\n",
      "HMM Training iteration 59\n",
      "A error 3.844474e-03, O error 1.991032e-03\n",
      "HMM Training iteration 60\n",
      "A error 3.632858e-03, O error 1.843370e-03\n",
      "HMM Training iteration 61\n",
      "A error 3.589496e-03, O error 1.748340e-03\n",
      "HMM Training iteration 62\n",
      "A error 3.730687e-03, O error 1.818090e-03\n",
      "HMM Training iteration 63\n",
      "A error 4.011828e-03, O error 1.854227e-03\n",
      "HMM Training iteration 64\n",
      "A error 3.968573e-03, O error 1.696805e-03\n",
      "HMM Training iteration 65\n",
      "A error 3.555853e-03, O error 1.483225e-03\n",
      "HMM Training iteration 66\n",
      "A error 3.358295e-03, O error 1.496000e-03\n",
      "HMM Training iteration 67\n",
      "A error 3.437659e-03, O error 1.630052e-03\n",
      "HMM Training iteration 68\n",
      "A error 3.644372e-03, O error 1.777913e-03\n",
      "HMM Training iteration 69\n",
      "A error 3.634339e-03, O error 1.747512e-03\n",
      "HMM Training iteration 70\n",
      "A error 3.434272e-03, O error 1.575033e-03\n",
      "HMM Training iteration 71\n",
      "A error 3.249970e-03, O error 1.388654e-03\n",
      "HMM Training iteration 72\n",
      "A error 3.148480e-03, O error 1.349219e-03\n",
      "HMM Training iteration 73\n",
      "A error 2.967069e-03, O error 1.289894e-03\n",
      "HMM Training iteration 74\n",
      "A error 2.804318e-03, O error 1.247802e-03\n",
      "HMM Training iteration 75\n",
      "A error 2.780075e-03, O error 1.283205e-03\n",
      "HMM Training iteration 76\n",
      "A error 2.857925e-03, O error 1.478246e-03\n",
      "HMM Training iteration 77\n",
      "A error 2.977299e-03, O error 1.687269e-03\n",
      "HMM Training iteration 78\n",
      "A error 3.375590e-03, O error 1.706456e-03\n",
      "HMM Training iteration 79\n",
      "A error 3.288287e-03, O error 1.464621e-03\n",
      "HMM Training iteration 80\n",
      "A error 2.703234e-03, O error 1.158014e-03\n",
      "HMM Training iteration 81\n",
      "A error 2.318525e-03, O error 1.106039e-03\n",
      "HMM Training iteration 82\n",
      "A error 2.176166e-03, O error 1.173652e-03\n",
      "HMM Training iteration 83\n",
      "A error 2.008527e-03, O error 1.143500e-03\n",
      "HMM Training iteration 84\n",
      "A error 1.789766e-03, O error 1.038665e-03\n",
      "HMM Training iteration 85\n",
      "A error 1.705964e-03, O error 9.566516e-04\n",
      "HMM Training iteration 86\n",
      "A error 1.827340e-03, O error 1.014282e-03\n",
      "HMM Training iteration 87\n",
      "A error 2.156978e-03, O error 1.099505e-03\n",
      "HMM Training iteration 88\n",
      "A error 2.600929e-03, O error 1.172626e-03\n",
      "HMM Training iteration 89\n",
      "A error 2.818004e-03, O error 1.260529e-03\n",
      "HMM Training iteration 90\n",
      "A error 3.050829e-03, O error 1.336413e-03\n",
      "HMM Training iteration 91\n",
      "A error 2.879486e-03, O error 1.201339e-03\n",
      "HMM Training iteration 92\n",
      "A error 2.720961e-03, O error 1.146029e-03\n",
      "HMM Training iteration 93\n",
      "A error 2.779878e-03, O error 1.142256e-03\n",
      "HMM Training iteration 94\n",
      "A error 2.769120e-03, O error 1.071659e-03\n",
      "HMM Training iteration 95\n",
      "A error 2.881792e-03, O error 1.168134e-03\n",
      "HMM Training iteration 96\n",
      "A error 2.814230e-03, O error 1.204984e-03\n",
      "HMM Training iteration 97\n",
      "A error 2.432271e-03, O error 1.071076e-03\n",
      "HMM Training iteration 98\n",
      "A error 2.330560e-03, O error 1.110050e-03\n",
      "HMM Training iteration 99\n",
      "A error 2.345005e-03, O error 1.168876e-03\n",
      "HMM Training iteration 100\n",
      "A error 2.413162e-03, O error 1.212025e-03\n"
     ]
    }
   ],
   "source": [
    "HMM10 = unsupervised_HMM(snShakespeare.obs, n_states = 10, N_iters = 100, seed = 123)"
   ]
  },
  {
   "cell_type": "markdown",
   "metadata": {},
   "source": [
    "### Generate sample sonnet"
   ]
  },
  {
   "cell_type": "code",
   "execution_count": 18,
   "metadata": {},
   "outputs": [
    {
     "name": "stdout",
     "output_type": "stream",
     "text": [
      "The freedom bastard thou in thy that your\n",
      "Up the is his philomel right thy thy\n",
      "Sap be sun and gave qualify thy proud\n",
      "O despair from unrespected wonder\n",
      "By than not with thine all dwell love's others\n",
      "I not do happy to is this my part\n",
      "And why no so what to purpose to a\n",
      "O'erlook bear virtue eye my in this a\n",
      "Then I in and cruel send love than write\n",
      "Before born thy mind all my control you\n",
      "Behind me learned moiety I my blind weed\n",
      "Thy youthful much all thee ten I the this\n",
      "Of is stars of love's touched doth a apple\n",
      "Sweet hear'st truth my for prime labouring the so.\n"
     ]
    }
   ],
   "source": [
    "from PoemWriter import SonnetWriter\n",
    "snw6 = SonnetWriter(hmmClass=HMM6,snClass=snShakespeare)\n",
    "thisSonnetList = snw6.write_poem(seed=123)"
   ]
  },
  {
   "cell_type": "code",
   "execution_count": null,
   "metadata": {},
   "outputs": [],
   "source": [
    "from PoemWriter import SonnetWriter\n",
    "snw8 = SonnetWriter(hmmClass=HMM8,snClass=snShakespeare)\n",
    "thisSonnetList = snw8.write_poem(seed=123)"
   ]
  },
  {
   "cell_type": "code",
   "execution_count": null,
   "metadata": {},
   "outputs": [],
   "source": [
    "from PoemWriter import SonnetWriter\n",
    "snw10 = SonnetWriter(hmmClass=HMM10,snClass=snShakespeare)\n",
    "thisSonnetList = snw8.write_poem(seed=123)"
   ]
  },
  {
   "cell_type": "markdown",
   "metadata": {},
   "source": [
    "## RNN Code"
   ]
  },
  {
   "cell_type": "code",
   "execution_count": null,
   "metadata": {},
   "outputs": [],
   "source": []
  },
  {
   "cell_type": "markdown",
   "metadata": {},
   "source": [
    "## Additional Goals"
   ]
  },
  {
   "cell_type": "markdown",
   "metadata": {},
   "source": [
    "### Sonnet with Meter"
   ]
  },
  {
   "cell_type": "markdown",
   "metadata": {},
   "source": [
    "#### Train HMM"
   ]
  },
  {
   "cell_type": "code",
   "execution_count": 5,
   "metadata": {},
   "outputs": [],
   "source": [
    "HMM_Stress = unsupervised_HMM(snStressShakespeare.obs, n_states = 2, N_iters = 0, seed = 123)"
   ]
  },
  {
   "cell_type": "markdown",
   "metadata": {},
   "source": [
    "#### Write Sonnet"
   ]
  },
  {
   "cell_type": "code",
   "execution_count": 6,
   "metadata": {},
   "outputs": [
    {
     "name": "stdout",
     "output_type": "stream",
     "text": [
      "Your hems tincture lilies love mars uprear\n",
      "December's third appeal under yea pine\n",
      "Remove consider pour'st richly remain\n",
      "You moment graces win forsake devised\n",
      "True-telling mended fool begins transferred\n",
      "Fool undivided separable bent\n",
      "Outworn disease should daily gild'st what's chopt\n",
      "Physicians cunning shaken lived unswayed\n",
      "Too birds counting contracted jollity\n",
      "Use prophecies contains unseen might rolling\n",
      "Defendant voices been time gay awakes\n",
      "Sets all beloved deserts crooked commence\n",
      "Born frailer onset middle chronicle\n",
      "Thy dry sins longing loss add knit makes fade.\n"
     ]
    }
   ],
   "source": [
    "snw_Stress = SonnetStressWriter(hmmClass=HMM_Stress,snClass=snStressShakespeare)\n",
    "thisSonnetStressList = snw_Stress.write_poem(seed=123)"
   ]
  },
  {
   "cell_type": "markdown",
   "metadata": {},
   "source": [
    "### Rhyming Sonnet"
   ]
  },
  {
   "cell_type": "code",
   "execution_count": 7,
   "metadata": {},
   "outputs": [
    {
     "name": "stdout",
     "output_type": "stream",
     "text": [
      "Provoke termed descriptions sue after-loss\n",
      "Lord ages cost monuments becomes gems\n",
      "Picture's corrupting mended greet am cross\n",
      "Writers addeth hearts hammered subjects hems\n",
      "Mud compounds who's seemed lamb ordering skill\n",
      "Balmy distance cupid shifting sap thus\n",
      "Hindmost lack brav'ry limbecks prepare ill\n",
      "Strife dye taker outcast gift over-plus\n",
      "Style assemble dreading lawful doth minds\n",
      "Profaned despise cry profane weep o'erworn\n",
      "Ransom alchemy frailer watch lark finds\n",
      "Perish frown'st abuses april shade morn\n",
      "Such ashes said frantic-mad 'scaped moon bark\n",
      "Word ruminate strange shore resembling mark.\n"
     ]
    }
   ],
   "source": [
    "snrw = SonnetRhymeWriter(hmmClass=HMM,snClass=snShakespeare)\n",
    "thisSonnetRhymeList = snrw.write_poem(seed=123)"
   ]
  },
  {
   "cell_type": "markdown",
   "metadata": {},
   "source": [
    "#### Sonnet with Rhyme and Meter"
   ]
  },
  {
   "cell_type": "code",
   "execution_count": 8,
   "metadata": {},
   "outputs": [
    {
     "name": "stdout",
     "output_type": "stream",
     "text": [
      "Uprear lest crystal master after-loss\n",
      "To-day wherein drawn bitter body's gems\n",
      "Example kills believe prove comment cross\n",
      "Sap hatred hems goest taker bases hems\n",
      "Victor esteemed knows spot forsworn eyes skill\n",
      "From truly coward trenches sensual thus\n",
      "Remembrance equipage engraft though ill\n",
      "Outlive richly controlling over-plus\n",
      "Lascivious shorn perusal inward minds\n",
      "Oaths wits roses laid boughs thyself o'erworn\n",
      "New rolling placed moan varying things finds\n",
      "Towards feasting saturn earthly proudest morn\n",
      "Cheeks tables hasten servant gaudy bark\n",
      "Wood's lover steepy dressing thievish mark.\n"
     ]
    }
   ],
   "source": [
    "snrsw = SonnetRhymeStressWriter(hmmClass=HMM_Stress,snClass=snStressShakespeare)\n",
    "thisSonnetRhymeStressList = snrsw.write_poem(seed=123)"
   ]
  },
  {
   "cell_type": "markdown",
   "metadata": {},
   "source": [
    "### Other Poem Structure"
   ]
  },
  {
   "cell_type": "markdown",
   "metadata": {},
   "source": [
    "#### Haiku"
   ]
  },
  {
   "cell_type": "code",
   "execution_count": 9,
   "metadata": {},
   "outputs": [
    {
     "name": "stdout",
     "output_type": "stream",
     "text": [
      "Lord move ugly map\n",
      "Blot endured aught small without\n",
      "Starved evident\n"
     ]
    }
   ],
   "source": [
    "hkw = HaikuWriter(hmmClass=HMM,snClass=snShakespeare)\n",
    "thisHaikuList = hkw.write_poem(seed=123)"
   ]
  },
  {
   "cell_type": "markdown",
   "metadata": {},
   "source": [
    "#### Limerick"
   ]
  },
  {
   "cell_type": "code",
   "execution_count": 10,
   "metadata": {},
   "outputs": [
    {
     "name": "stdout",
     "output_type": "stream",
     "text": [
      "Frailer forgetfulness churls lords on\n",
      "Pass restful sword clear perceiv'st or gone\n",
      "Refusest asked dates skill\n",
      "Wand'rest wantonness ill\n",
      "Knowing lets sluttish such giving groan.\n"
     ]
    }
   ],
   "source": [
    "limw = LimerickWriter(hmmClass=HMM,snClass=snShakespeare)\n",
    "thisLimerickList = limw.write_poem(seed=123)"
   ]
  },
  {
   "cell_type": "markdown",
   "metadata": {},
   "source": [
    "#### Petrarchan Sonnet"
   ]
  },
  {
   "cell_type": "code",
   "execution_count": 11,
   "metadata": {},
   "outputs": [
    {
     "name": "stdout",
     "output_type": "stream",
     "text": [
      "Sea's frailer forgetfulness consecrate skill\n",
      "Writers addeth hearts y'have confound longer ill\n",
      "Knowing lets sluttish such giving hundred fill\n",
      "Foot profit decayed sweet use detain save ill\n",
      "Torn shall perforce above day's admired still\n",
      "Different sum elements debateth saw skill\n",
      "Fled sleep inviting defeated do heir will\n",
      "Hooks gainer constancy revolution kill\n",
      "What's brood remover graciously betwixt you\n",
      "Their shamed perceiv'st madding tickled fashion west\n",
      "Presage saint brass earthly devised ladies held\n",
      "Triumph withering into didst taste makes adieu\n",
      "Committed discontent stealth transgression rest\n",
      "Land reigns strangely evermore vow bark seemed field.\n"
     ]
    }
   ],
   "source": [
    "psw = PetrarchanSonnetWriter(hmmClass=HMM,snClass=snShakespeare)\n",
    "thisPetrarchanList = psw.write_poem(seed=123)"
   ]
  },
  {
   "cell_type": "markdown",
   "metadata": {},
   "source": [
    "## Visualization"
   ]
  },
  {
   "cell_type": "code",
   "execution_count": null,
   "metadata": {},
   "outputs": [],
   "source": []
  }
 ],
 "metadata": {
  "kernelspec": {
   "display_name": "Python 3 (ipykernel)",
   "language": "python",
   "name": "python3"
  },
  "language_info": {
   "codemirror_mode": {
    "name": "ipython",
    "version": 3
   },
   "file_extension": ".py",
   "mimetype": "text/x-python",
   "name": "python",
   "nbconvert_exporter": "python",
   "pygments_lexer": "ipython3",
   "version": "3.11.5"
  }
 },
 "nbformat": 4,
 "nbformat_minor": 4
}
